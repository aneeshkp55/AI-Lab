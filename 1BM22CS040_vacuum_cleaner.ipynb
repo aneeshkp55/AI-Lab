{
  "nbformat": 4,
  "nbformat_minor": 0,
  "metadata": {
    "colab": {
      "provenance": []
    },
    "kernelspec": {
      "name": "python3",
      "display_name": "Python 3"
    },
    "language_info": {
      "name": "python"
    }
  },
  "cells": [
    {
      "cell_type": "code",
      "execution_count": 1,
      "metadata": {
        "colab": {
          "base_uri": "https://localhost:8080/"
        },
        "id": "h-CQILB-PIB0",
        "outputId": "2ed401bb-3cbd-49b2-ab15-b6358f734afb"
      },
      "outputs": [
        {
          "output_type": "stream",
          "name": "stdout",
          "text": [
            "Initial Room:\n",
            "[1, 1]\n",
            "[1, 1]\n",
            "\n",
            "Cleaned Room:\n",
            "[0, 0]\n",
            "[0, 0]\n"
          ]
        }
      ],
      "source": [
        "import random\n",
        "\n",
        "def clean_room(room):\n",
        "  rows = len(room)\n",
        "  cols = len(room[0])\n",
        "  while True:\n",
        "    dirty_found = False\n",
        "    for i in range(rows):\n",
        "      for j in range(cols):\n",
        "        if room[i][j] == 1:\n",
        "          room[i][j] = 0\n",
        "          dirty_found = True\n",
        "    if not dirty_found:\n",
        "      break\n",
        "    for i in range(rows):\n",
        "      for j in range(cols):\n",
        "        if room[i][j] == 1:\n",
        "          room[i][j] = 0\n",
        "    if not dirty_found:\n",
        "      break\n",
        "    for i in range(rows - 1, -1, -1):\n",
        "      for j in range(cols - 1, -1, -1):\n",
        "        if room[i][j] == 1:\n",
        "          room[i][j] = 0\n",
        "    if not dirty_found:\n",
        "      break\n",
        "    for i in range(rows - 1, -1, -1):\n",
        "      for j in range(cols):\n",
        "        if room[i][j] == 1:\n",
        "          room[i][j] = 0\n",
        "\n",
        "rows = 2\n",
        "cols = 2\n",
        "room = [[0 for _ in range(cols)] for _ in range(rows)]\n",
        "\n",
        "for _ in range(10):\n",
        "  row = random.randint(0, 1)\n",
        "  col = random.randint(0, 1)\n",
        "  room[row][col] = 1\n",
        "\n",
        "print(\"Initial Room:\")\n",
        "for row in room:\n",
        "  print(row)\n",
        "\n",
        "clean_room(room)\n",
        "\n",
        "print(\"\\nCleaned Room:\")\n",
        "for row in room:\n",
        "  print(row)\n"
      ]
    }
  ]
}