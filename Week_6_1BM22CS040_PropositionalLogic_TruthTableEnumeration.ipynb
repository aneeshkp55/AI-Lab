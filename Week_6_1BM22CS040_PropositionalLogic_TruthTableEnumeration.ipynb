{
  "nbformat": 4,
  "nbformat_minor": 0,
  "metadata": {
    "colab": {
      "provenance": []
    },
    "kernelspec": {
      "name": "python3",
      "display_name": "Python 3"
    },
    "language_info": {
      "name": "python"
    }
  },
  "cells": [
    {
      "cell_type": "code",
      "execution_count": 13,
      "metadata": {
        "colab": {
          "base_uri": "https://localhost:8080/"
        },
        "id": "Dkk9Gp-AjLcY",
        "outputId": "17db2c74-7561-4c23-bab1-b8d5251bbf4d"
      },
      "outputs": [
        {
          "output_type": "stream",
          "name": "stdout",
          "text": [
            "KB entails alpha (R)\n"
          ]
        }
      ],
      "source": [
        "import itertools\n",
        "\n",
        "def implies(p, q):\n",
        "    return not p or q\n",
        "\n",
        "def neg(p):\n",
        "    return not p\n",
        "\n",
        "def or_operator(p, q):\n",
        "    return p or q\n",
        "\n",
        "def evaluate_KB(var_Q, var_P, var_R):\n",
        "\n",
        "    condition_1 = implies(var_Q, var_P)\n",
        "    condition_2 = implies(var_P, neg(var_Q))\n",
        "    condition_3 = or_operator(var_Q, var_R)\n",
        "\n",
        "    return condition_1 and condition_2 and condition_3\n",
        "\n",
        "def evaluate_alpha(var_R):\n",
        "    return var_R\n",
        "\n",
        "def generate_truth_table():\n",
        "    return list(itertools.product([False, True], repeat=3))\n",
        "\n",
        "def check_entailment():\n",
        "    truth_table = generate_truth_table()\n",
        "    for var_Q, var_P, var_R in truth_table:\n",
        "        KB_is_true = evaluate_KB(var_Q, var_P, var_R)\n",
        "\n",
        "        if KB_is_true and not evaluate_alpha(var_R):\n",
        "            return \"No\"\n",
        "\n",
        "    return \"Yes\"\n",
        "\n",
        "\n",
        "result = check_entailment()\n",
        "if(result==\"Yes\"):\n",
        "  print(\"KB entails alpha (R)\")\n",
        "else:\n",
        "  print(\"KB does not entail alpha (R)\")\n"
      ]
    },
    {
      "cell_type": "code",
      "source": [
        "import itertools\n",
        "\n",
        "def implies(p, q):\n",
        "    return not p or q\n",
        "\n",
        "def neg(p):\n",
        "    return not p\n",
        "\n",
        "def or_operator(p, q):\n",
        "    return p or q\n",
        "\n",
        "def evaluate_KB(var_Q, var_P, var_R):\n",
        "\n",
        "    condition_1 = implies(var_Q, var_P)\n",
        "    condition_2 = implies(var_P, neg(var_Q))\n",
        "    condition_3 = or_operator(var_Q, var_R)\n",
        "\n",
        "    return condition_1 and condition_2 and condition_3\n",
        "\n",
        "def evaluate_alpha(var_R,var_P):\n",
        "    return implies(var_R, var_P)\n",
        "\n",
        "def generate_truth_table():\n",
        "    return list(itertools.product([False, True], repeat=3))\n",
        "\n",
        "def check_entailment():\n",
        "    truth_table = generate_truth_table()\n",
        "    for var_Q, var_P, var_R in truth_table:\n",
        "        KB_is_true = evaluate_KB(var_Q, var_P, var_R)\n",
        "\n",
        "        if KB_is_true and not evaluate_alpha(var_R,var_P):\n",
        "            return \"No\"\n",
        "\n",
        "    return \"Yes\"\n",
        "\n",
        "\n",
        "result = check_entailment()\n",
        "if(result==\"Yes\"):\n",
        "  print(\"KB entails alpha (R->P)\")\n",
        "else:\n",
        "  print(\"KB does not entail alpha (R->P)\")"
      ],
      "metadata": {
        "colab": {
          "base_uri": "https://localhost:8080/"
        },
        "id": "N59EUwZ1oxo7",
        "outputId": "40533428-4786-4dc2-f208-dfc33a5b9099"
      },
      "execution_count": 18,
      "outputs": [
        {
          "output_type": "stream",
          "name": "stdout",
          "text": [
            "KB does not entail alpha (R->P)\n"
          ]
        }
      ]
    },
    {
      "cell_type": "code",
      "source": [
        "import itertools\n",
        "\n",
        "def implies(p, q):\n",
        "    return not p or q\n",
        "\n",
        "def neg(p):\n",
        "    return not p\n",
        "\n",
        "def or_operator(p, q):\n",
        "    return p or q\n",
        "\n",
        "def evaluate_KB(var_Q, var_P, var_R):\n",
        "\n",
        "    condition_1 = implies(var_Q, var_P)\n",
        "    condition_2 = implies(var_P, neg(var_Q))\n",
        "    condition_3 = or_operator(var_Q, var_R)\n",
        "\n",
        "    return condition_1 and condition_2 and condition_3\n",
        "\n",
        "def evaluate_alpha(var_Q,var_R):\n",
        "    return implies(var_Q,var_R)\n",
        "\n",
        "def generate_truth_table():\n",
        "    return list(itertools.product([False, True], repeat=3))\n",
        "\n",
        "def check_entailment():\n",
        "    truth_table = generate_truth_table()\n",
        "    for var_Q, var_P, var_R in truth_table:\n",
        "        KB_is_true = evaluate_KB(var_Q, var_P, var_R)\n",
        "\n",
        "        if KB_is_true and not evaluate_alpha(var_Q,var_R):\n",
        "            return \"No\"\n",
        "\n",
        "    return \"Yes\"\n",
        "\n",
        "\n",
        "result = check_entailment()\n",
        "if(result==\"Yes\"):\n",
        "  print(\"KB entails alpha (Q->R)\")\n",
        "else:\n",
        "  print(\"KB does not entail alpha (Q->R)\")"
      ],
      "metadata": {
        "colab": {
          "base_uri": "https://localhost:8080/"
        },
        "id": "zDM7A1y_qhrz",
        "outputId": "b29d6e65-630c-46ee-c564-8ac0acec8174"
      },
      "execution_count": 19,
      "outputs": [
        {
          "output_type": "stream",
          "name": "stdout",
          "text": [
            "KB entails alpha (Q->R)\n"
          ]
        }
      ]
    }
  ]
}