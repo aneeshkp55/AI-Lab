{
  "nbformat": 4,
  "nbformat_minor": 0,
  "metadata": {
    "colab": {
      "provenance": []
    },
    "kernelspec": {
      "name": "python3",
      "display_name": "Python 3"
    },
    "language_info": {
      "name": "python"
    }
  },
  "cells": [
    {
      "cell_type": "code",
      "execution_count": 1,
      "metadata": {
        "colab": {
          "base_uri": "https://localhost:8080/"
        },
        "id": "MbamRSrTPvRY",
        "outputId": "5fc05205-6a8c-444e-c0f5-c859063b982d"
      },
      "outputs": [
        {
          "output_type": "stream",
          "name": "stdout",
          "text": [
            "[1, 0, 2]\n",
            "[3, 4, 5]\n",
            "[6, 7, 8]\n",
            "\n",
            "[0, 1, 2]\n",
            "[3, 4, 5]\n",
            "[6, 7, 8]\n",
            "\n"
          ]
        }
      ],
      "source": [
        "from copy import deepcopy\n",
        "\n",
        "goal_state = [[0, 1, 2],\n",
        "              [3, 4, 5],\n",
        "              [6, 7, 8]]\n",
        "\n",
        "moves = {\n",
        "    'up': (-1, 0),\n",
        "    'down': (1, 0),\n",
        "    'left': (0, -1),\n",
        "    'right': (0, 1)\n",
        "}\n",
        "\n",
        "def find_blank(board):\n",
        "    for i in range(3):\n",
        "        for j in range(3):\n",
        "            if board[i][j] == 0:\n",
        "                return i, j\n",
        "    return None\n",
        "\n",
        "def is_goal(state):\n",
        "    return state == goal_state\n",
        "\n",
        "def is_valid_move(x, y):\n",
        "    return 0 <= x < 3 and 0 <= y < 3\n",
        "\n",
        "def apply_move(board, move):\n",
        "    x, y = find_blank(board)\n",
        "    dx, dy = moves[move]\n",
        "    new_x, new_y = x + dx, y + dy\n",
        "    if is_valid_move(new_x, new_y):\n",
        "        new_board = deepcopy(board)\n",
        "        new_board[x][y], new_board[new_x][new_y] = new_board[new_x][new_y], new_board[x][y]\n",
        "        return new_board\n",
        "    return None\n",
        "\n",
        "def dfs_limited(state, path, depth_limit, visited):\n",
        "    if is_goal(state):\n",
        "        return path + [state]\n",
        "\n",
        "    if depth_limit == 0:\n",
        "        return None\n",
        "\n",
        "    visited.add(tuple(tuple(row) for row in state))\n",
        "\n",
        "    for move in moves:\n",
        "        new_state = apply_move(state, move)\n",
        "        if new_state and tuple(tuple(row) for row in new_state) not in visited:\n",
        "            result = dfs_limited(new_state, path + [state], depth_limit - 1, visited)\n",
        "            if result:\n",
        "                return result\n",
        "\n",
        "    visited.remove(tuple(tuple(row) for row in state))\n",
        "    return None\n",
        "\n",
        "def ids(start):\n",
        "    depth_limit = 0\n",
        "    while True:\n",
        "        visited = set()\n",
        "        result = dfs_limited(start, [], depth_limit, visited)\n",
        "        if result:\n",
        "            return result\n",
        "        depth_limit += 1\n",
        "\n",
        "def print_board(board):\n",
        "    for row in board:\n",
        "        print(row)\n",
        "    print()\n",
        "\n",
        "def print_solution(solution):\n",
        "    if solution:\n",
        "        for board in solution:\n",
        "            print_board(board)\n",
        "    else:\n",
        "        print(\"No solution found\")\n",
        "\n",
        "initial_state = [[1, 0, 2],\n",
        "                 [3, 4, 5],\n",
        "                 [6, 7, 8]]\n",
        "\n",
        "solution = ids(initial_state)\n",
        "\n",
        "print_solution(solution)"
      ]
    }
  ]
}