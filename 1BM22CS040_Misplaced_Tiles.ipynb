{
  "nbformat": 4,
  "nbformat_minor": 0,
  "metadata": {
    "colab": {
      "provenance": []
    },
    "kernelspec": {
      "name": "python3",
      "display_name": "Python 3"
    },
    "language_info": {
      "name": "python"
    }
  },
  "cells": [
    {
      "cell_type": "code",
      "source": [
        "def misplaced_tiles(state, goal):\n",
        "    return sum(1 for i in range(3) for j in range(3) if state[i][j] != goal[i][j] and state[i][j] != 0)\n",
        "\n",
        "def get_neighbors(state):\n",
        "    neighbors = []\n",
        "    blank = [(i, j) for i in range(3) for j in range(3) if state[i][j] == 0][0]\n",
        "    possible_moves = [(-1, 0), (1, 0), (0, -1), (0, 1)]\n",
        "    x, y = blank\n",
        "\n",
        "    for dx, dy in possible_moves:\n",
        "        nx, ny = x + dx, y + dy\n",
        "        if 0 <= nx < 3 and 0 <= ny < 3:\n",
        "            new_state = [row[:] for row in state]\n",
        "            new_state[x][y], new_state[nx][ny] = new_state[nx][ny], new_state[x][y]\n",
        "            neighbors.append(new_state)\n",
        "\n",
        "    return neighbors\n",
        "\n",
        "def print_path(path):\n",
        "    for i, state in enumerate(path):\n",
        "        print(f\"Step: {i+1}\")\n",
        "        for row in state:\n",
        "            print(row)\n",
        "        g_n = i\n",
        "        h_n = misplaced_tiles(state, goal)\n",
        "        f_n = g_n + h_n\n",
        "        print(f\"g(n): {g_n}, h(n): {h_n}, f(n): {f_n}\")\n",
        "        print()\n",
        "\n",
        "def astar_misplaced(start, goal):\n",
        "    open_list = [(start, 0, [])]\n",
        "    visited = set()\n",
        "\n",
        "    while open_list:\n",
        "        current, g, path = open_list.pop(0)\n",
        "\n",
        "        path = path + [current]\n",
        "\n",
        "        if current == goal:\n",
        "            print(\"Solution Found:\")\n",
        "            print_path(path)\n",
        "            return g\n",
        "\n",
        "        for neighbor in get_neighbors(current):\n",
        "            neighbor_tuple = tuple(map(tuple, neighbor))\n",
        "            if neighbor_tuple not in visited:\n",
        "                visited.add(neighbor_tuple)\n",
        "                h = misplaced_tiles(neighbor, goal)\n",
        "                open_list.append((neighbor, g + 1, path))\n",
        "\n",
        "        open_list.sort(key=lambda x: x[1] + misplaced_tiles(x[0], goal))\n",
        "    return -1\n",
        "\n",
        "start = [[2,8,3], [1,6,4], [7,0,5]]\n",
        "goal = [[1,2,3], [8,0,4], [7,6,5]]\n",
        "astar_misplaced(start, goal)"
      ],
      "metadata": {
        "colab": {
          "base_uri": "https://localhost:8080/"
        },
        "id": "4CZ-lz2MeJSl",
        "outputId": "71731895-e78c-42b3-a299-88eaa2d0f9a5"
      },
      "execution_count": 6,
      "outputs": [
        {
          "output_type": "stream",
          "name": "stdout",
          "text": [
            "Solution Found:\n",
            "Step: 1\n",
            "[2, 8, 3]\n",
            "[1, 6, 4]\n",
            "[7, 0, 5]\n",
            "g(n): 0, h(n): 4, f(n): 4\n",
            "\n",
            "Step: 2\n",
            "[2, 8, 3]\n",
            "[1, 0, 4]\n",
            "[7, 6, 5]\n",
            "g(n): 1, h(n): 3, f(n): 4\n",
            "\n",
            "Step: 3\n",
            "[2, 0, 3]\n",
            "[1, 8, 4]\n",
            "[7, 6, 5]\n",
            "g(n): 2, h(n): 3, f(n): 5\n",
            "\n",
            "Step: 4\n",
            "[0, 2, 3]\n",
            "[1, 8, 4]\n",
            "[7, 6, 5]\n",
            "g(n): 3, h(n): 2, f(n): 5\n",
            "\n",
            "Step: 5\n",
            "[1, 2, 3]\n",
            "[0, 8, 4]\n",
            "[7, 6, 5]\n",
            "g(n): 4, h(n): 1, f(n): 5\n",
            "\n",
            "Step: 6\n",
            "[1, 2, 3]\n",
            "[8, 0, 4]\n",
            "[7, 6, 5]\n",
            "g(n): 5, h(n): 0, f(n): 5\n",
            "\n"
          ]
        },
        {
          "output_type": "execute_result",
          "data": {
            "text/plain": [
              "5"
            ]
          },
          "metadata": {},
          "execution_count": 6
        }
      ]
    }
  ]
}