{
  "nbformat": 4,
  "nbformat_minor": 0,
  "metadata": {
    "colab": {
      "provenance": []
    },
    "kernelspec": {
      "name": "python3",
      "display_name": "Python 3"
    },
    "language_info": {
      "name": "python"
    }
  },
  "cells": [
    {
      "cell_type": "code",
      "execution_count": 3,
      "metadata": {
        "colab": {
          "base_uri": "https://localhost:8080/"
        },
        "id": "AwMPvxXjwP1z",
        "outputId": "afea1835-524a-4208-a8ba-1676c2ca3e85"
      },
      "outputs": [
        {
          "output_type": "stream",
          "name": "stdout",
          "text": [
            "The conclusion Older(Leela, Oshin) is TRUE.\n"
          ]
        }
      ],
      "source": [
        "# Facts and rules\n",
        "facts = {\n",
        "    'Mother(Leela, Oshin)': True,\n",
        "    'Alive(Leela)': True\n",
        "}\n",
        "\n",
        "def rule_1(x, y):\n",
        "    return f\"¬Mother({x}, {y}) ∨ Parent({x}, {y})\"\n",
        "\n",
        "def rule_2(x, y):\n",
        "    return f\"¬Parent({x}, {y}) ∨ ¬Alive({x}) ∨ Older({x}, {y})\"\n",
        "\n",
        "def negate(predicate):\n",
        "    if predicate.startswith(\"¬\"):\n",
        "        return predicate[1:]\n",
        "    else:\n",
        "        return f\"¬{predicate}\"\n",
        "\n",
        "def resolve(clause1, clause2):\n",
        "    literals1 = set(clause1.replace(\"¬\", \"\").split(\" ∨ \"))\n",
        "    literals2 = set(clause2.replace(\"¬\", \"\").split(\" ∨ \"))\n",
        "    for literal in literals1:\n",
        "        neg_literal = negate(literal)\n",
        "        if neg_literal in literals2:\n",
        "            new_clause = (literals1 | literals2) - {literal, neg_literal}\n",
        "            return \" ∨ \".join(sorted(new_clause))\n",
        "    return None\n",
        "\n",
        "def infer_older(x, y):\n",
        "    clauses = [\n",
        "        f\"Mother({x}, {y})\",\n",
        "        f\"Alive({x})\",\n",
        "        rule_1(x, y),\n",
        "        rule_2(x, y)\n",
        "    ]\n",
        "    new_clauses = set(clauses)\n",
        "    while True:\n",
        "        added_clauses = set()\n",
        "        for clause1 in new_clauses:\n",
        "            for clause2 in new_clauses:\n",
        "                if clause1 != clause2:\n",
        "                    resolved = resolve(clause1, clause2)\n",
        "                    if resolved and resolved not in new_clauses:\n",
        "                        added_clauses.add(resolved)\n",
        "        if added_clauses:\n",
        "            new_clauses.update(added_clauses)\n",
        "        for clause in new_clauses:\n",
        "            if f\"Older({x}, {y})\" in clause:\n",
        "                return True\n",
        "        if not added_clauses:\n",
        "            break\n",
        "    return False\n",
        "\n",
        "# Run inference\n",
        "result = infer_older('Leela', 'Oshin')\n",
        "\n",
        "if result:\n",
        "    print(\"The conclusion Older(Leela, Oshin) is TRUE.\")\n",
        "else:\n",
        "    print(\"The conclusion Older(Leela, Oshin) is FALSE.\")\n"
      ]
    }
  ]
}