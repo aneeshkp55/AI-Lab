{
  "nbformat": 4,
  "nbformat_minor": 0,
  "metadata": {
    "colab": {
      "provenance": []
    },
    "kernelspec": {
      "name": "python3",
      "display_name": "Python 3"
    },
    "language_info": {
      "name": "python"
    }
  },
  "cells": [
    {
      "cell_type": "code",
      "execution_count": 15,
      "metadata": {
        "colab": {
          "base_uri": "https://localhost:8080/"
        },
        "id": "Cgbhu6DXnDvk",
        "outputId": "c5e6af9d-8faf-4987-c7e8-9fd7c0f828bb"
      },
      "outputs": [
        {
          "output_type": "stream",
          "name": "stdout",
          "text": [
            "Expression 1 before unification: ['Eats', 'John', 'x']\n",
            "Expression 2 before unification: ['Eats', 'y', 'Apple']\n",
            "\n",
            "Substitution Result: {'John': 'y', 'x': 'Apple'}\n"
          ]
        }
      ],
      "source": [
        "def occurs_check(var, term):\n",
        "    \"\"\"Checks if a variable occurs in a term.\"\"\"\n",
        "    if isinstance(term, str) and term == var:\n",
        "        return True\n",
        "    if isinstance(term, list):\n",
        "        return any(occurs_check(var, sub_term) for sub_term in term)\n",
        "    return False\n",
        "\n",
        "def substitute(substitution, term):\n",
        "    \"\"\"Applies a substitution to a term.\"\"\"\n",
        "    if isinstance(term, str):  # If term is a variable, apply substitution\n",
        "        return substitution.get(term, term)\n",
        "    elif isinstance(term, list):  # If term is a compound term, recurse\n",
        "        return [substitute(substitution, sub_term) for sub_term in term]\n",
        "    return term\n",
        "\n",
        "def unify(Ψ1, Ψ2):\n",
        "    \"\"\"Main unification function.\"\"\"\n",
        "    # Step 1: If Ψ1 or Ψ2 is a variable or constant\n",
        "    if isinstance(Ψ1, str) or isinstance(Ψ2, str):\n",
        "        if Ψ1 == Ψ2:\n",
        "            return None  # a) If Ψ1 or Ψ2 are identical, return NIL\n",
        "        elif isinstance(Ψ1, str):\n",
        "            if occurs_check(Ψ1, Ψ2):\n",
        "                return \"FAILURE\"  # b) If Ψ1 occurs in Ψ2, return FAILURE\n",
        "            else:\n",
        "                return {Ψ1: Ψ2}  # b) Else return {Ψ2 / Ψ1}\n",
        "        elif isinstance(Ψ2, str):\n",
        "            if occurs_check(Ψ2, Ψ1):\n",
        "                return \"FAILURE\"  # a) If Ψ2 occurs in Ψ1, return FAILURE\n",
        "            else:\n",
        "                return {Ψ2: Ψ1}  # b) Else return {Ψ1 / Ψ2}\n",
        "        else:\n",
        "            return \"FAILURE\"  # d) Return FAILURE if neither is a variable\n",
        "\n",
        "    # Step 2: Check if predicate symbols are the same\n",
        "    if isinstance(Ψ1, list) and isinstance(Ψ2, list) and Ψ1[0] != Ψ2[0]:\n",
        "        return \"FAILURE\"  # If the initial predicate symbol is different\n",
        "\n",
        "    # Step 3: Check if the number of arguments is different\n",
        "    if len(Ψ1) != len(Ψ2):\n",
        "        return \"FAILURE\"  # If the number of arguments are different, return FAILURE\n",
        "\n",
        "    # Step 4: Initialize substitution set\n",
        "    SUBST = {}\n",
        "\n",
        "    # Step 5: Process each argument (start from index 1 to skip predicate symbol)\n",
        "    for i in range(1, len(Ψ1)):\n",
        "        S = unify(Ψ1[i], Ψ2[i])  # Recursively unify corresponding arguments\n",
        "        if S == \"FAILURE\":\n",
        "            return \"FAILURE\"  # If failure, return FAILURE\n",
        "        elif S != None:  # If a substitution occurs\n",
        "            # Apply the substitution on both Ψ1 and Ψ2\n",
        "            for var, val in S.items():\n",
        "                # Apply the substitution to both terms\n",
        "                Ψ1 = substitute({var: val}, Ψ1)\n",
        "                Ψ2 = substitute({var: val}, Ψ2)\n",
        "            SUBST.update(S)  # Update substitution set\n",
        "\n",
        "    # Step 6: Return the final substitution set\n",
        "    return SUBST\n",
        "\n",
        "\n",
        "# Example usage:\n",
        "Ψ1 = ['Eats', 'John', 'x']\n",
        "Ψ2 = ['Eats', 'y', 'Apple']\n",
        "\n",
        "# Print expressions before unification\n",
        "print(\"Expression 1 before unification:\", Ψ1)\n",
        "print(\"Expression 2 before unification:\", Ψ2)\n",
        "\n",
        "result = unify(Ψ1, Ψ2)\n",
        "\n",
        "if result != \"FAILURE\" and result is not None:\n",
        "    unified_Ψ1 = substitute(result, Ψ1)\n",
        "    unified_Ψ2 = substitute(result, Ψ2)\n",
        "else:\n",
        "    unified_Ψ1 = Ψ1\n",
        "    unified_Ψ2 = Ψ2\n",
        "\n",
        "# Print results\n",
        "print(\"\\nSubstitution Result:\", result)\n",
        "# print(\"Expression 1 after unification:\", unified_Ψ1)\n",
        "# print(\"Expression 2 after unification:\", unified_Ψ2)\n"
      ]
    }
  ]
}