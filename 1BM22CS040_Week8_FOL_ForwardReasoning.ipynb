{
  "nbformat": 4,
  "nbformat_minor": 0,
  "metadata": {
    "colab": {
      "provenance": []
    },
    "kernelspec": {
      "name": "python3",
      "display_name": "Python 3"
    },
    "language_info": {
      "name": "python"
    }
  },
  "cells": [
    {
      "cell_type": "code",
      "execution_count": 13,
      "metadata": {
        "colab": {
          "base_uri": "https://localhost:8080/"
        },
        "id": "i_rRdpNLrJmH",
        "outputId": "7a495a21-d613-43ee-8b7c-f1620365f87b"
      },
      "outputs": [
        {
          "output_type": "stream",
          "name": "stdout",
          "text": [
            "\n",
            "Step 1: Current Facts: Missile is a weapon, Robert sold missiles to Russia, Robert is American, Russia is enemy of America, Russia has some missiles\n",
            "Rule Applied: Robert is American AND Russia is enemy of America AND Missile is a weapon AND Robert sold missiles to Russia => Robert is criminal\n",
            "\n",
            "Step 2: Current Facts: Missile is a weapon, Robert sold missiles to Russia, Robert is American, Robert is criminal, Russia is enemy of America, Russia has some missiles\n",
            "No new facts can be derived. Stopping.\n",
            "\n",
            "Goal Reached: Robert is criminal\n"
          ]
        }
      ],
      "source": [
        "class Rule:\n",
        "    def __init__(self, conditions, conclusion):\n",
        "        self.conditions = conditions  # List of conditions (facts needed)\n",
        "        self.conclusion = conclusion  # Conclusion (new fact derived)\n",
        "\n",
        "    def is_applicable(self, facts):\n",
        "        # Check if all conditions are met (i.e., fact exists in the set of facts)\n",
        "        return all(condition in facts for condition in self.conditions)\n",
        "\n",
        "\n",
        "class ForwardChaining:\n",
        "    def __init__(self, facts, rules):\n",
        "        self.facts = set(facts)  # Initialize facts (known information)\n",
        "        self.rules = rules  # Initialize the rules (conditions -> conclusion)\n",
        "\n",
        "    def apply_rule(self, rule):\n",
        "        # Check if a rule can be applied and add the conclusion to facts\n",
        "        if rule.is_applicable(self.facts):\n",
        "            print(f\"Rule Applied: {' AND '.join(rule.conditions)} => {rule.conclusion}\")\n",
        "            self.facts.add(rule.conclusion)\n",
        "        else:\n",
        "            print(f\"Rule Not Applicable: {' AND '.join(rule.conditions)}\")\n",
        "\n",
        "    def run(self):\n",
        "        # Repeatedly apply rules as long as new facts are added\n",
        "        new_fact = True\n",
        "        step = 1\n",
        "        while new_fact:\n",
        "            new_fact = False\n",
        "            print(f\"\\nStep {step}: Current Facts: {', '.join(self.facts)}\")\n",
        "            for rule in self.rules:\n",
        "                if rule.is_applicable(self.facts) and rule.conclusion not in self.facts:\n",
        "                    self.apply_rule(rule)\n",
        "                    new_fact = True\n",
        "            if not new_fact:\n",
        "                print(\"No new facts can be derived. Stopping.\")\n",
        "            step += 1\n",
        "\n",
        "    def check_goal(self, goal):\n",
        "        # Check if the goal (fact) is in the current facts\n",
        "        if goal in self.facts:\n",
        "            print(f\"\\nGoal Reached: {goal}\")\n",
        "        else:\n",
        "            print(f\"\\nGoal Not Reached: {goal}\")\n",
        "\n",
        "\n",
        "# Define facts\n",
        "initial_facts = [\n",
        "    \"Robert is American\",         # Robert is American\n",
        "    \"Russia is enemy of America\",    # Russia is an enemy of America\n",
        "    \"Missile is a weapon\",        # A missile is a weapon\n",
        "    \"Robert sold missiles to Russia\",  # Robert sold missiles to Russia\n",
        "    \"Russia has some missiles\",      # Russia has missiles\n",
        "]\n",
        "\n",
        "# Define rules (if conditions are met, then conclude the new fact)\n",
        "rules = [\n",
        "    Rule([\"Robert is American\", \"Russia is enemy of America\", \"Missile is a weapon\", \"Robert sold missiles to Russia\"], \"Robert is criminal\"),\n",
        "]\n",
        "\n",
        "# Create the forward chaining engine\n",
        "engine = ForwardChaining(initial_facts, rules)\n",
        "\n",
        "# Run the forward chaining algorithm\n",
        "engine.run()\n",
        "\n",
        "# Check if the goal is achieved\n",
        "engine.check_goal(\"Robert is criminal\")\n"
      ]
    }
  ]
}